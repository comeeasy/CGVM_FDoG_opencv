{
 "cells": [
  {
   "cell_type": "code",
   "execution_count": 21,
   "metadata": {},
   "outputs": [],
   "source": [
    "import cv2\n",
    "import matplotlib.pyplot as plt\n",
    "import numpy as np\n",
    "\n",
    "from tqdm import tqdm"
   ]
  },
  {
   "cell_type": "code",
   "execution_count": 22,
   "metadata": {},
   "outputs": [],
   "source": [
    "def create_paired_images(index):\n",
    "    # Setup the plot for colored and black & white images\n",
    "    fig_colored, ax_colored = plt.subplots(figsize=(10.24, 10.24))\n",
    "    fig_bw, ax_bw = plt.subplots(figsize=(10.24, 10.24))\n",
    "\n",
    "    ax_colored.set_xlim(0, 10)\n",
    "    ax_colored.set_ylim(0, 10)\n",
    "    ax_colored.axis('off')  # Hide axes\n",
    "\n",
    "    ax_bw.set_xlim(0, 10)\n",
    "    ax_bw.set_ylim(0, 10)\n",
    "    ax_bw.axis('off')  # Hide axes\n",
    "\n",
    "    # Number of each shape\n",
    "    num_figs = np.random.randint(1, 30)\n",
    "\n",
    "    # Create and add shapes to both images\n",
    "    for _ in range(num_figs):\n",
    "        x, y = np.random.uniform(0, 10.24), np.random.uniform(0, 10.24)\n",
    "        width, height = np.random.uniform(0.5, 1.5), np.random.uniform(0.5, 1.5)\n",
    "        color = np.random.rand(3,)\n",
    "        rect_colored = plt.Rectangle((x, y), width, height, fill=True, edgecolor=color, facecolor=color)\n",
    "        rect_bw = plt.Rectangle((x, y), width, height, fill=True, edgecolor='black', facecolor='white', linewidth=1)\n",
    "        ax_colored.add_patch(rect_colored)\n",
    "        ax_bw.add_patch(rect_bw)\n",
    "        \n",
    "        points = np.random.uniform(0, 10.24, (3, 2))\n",
    "        color = np.random.rand(3,)\n",
    "        triangle_colored = plt.Polygon(points, fill=True, edgecolor=color, facecolor=color)\n",
    "        triangle_bw = plt.Polygon(points, fill=True, edgecolor='black', facecolor='white', linewidth=1)\n",
    "        ax_colored.add_patch(triangle_colored)\n",
    "        ax_bw.add_patch(triangle_bw)\n",
    "        \n",
    "        x, y = np.random.uniform(0, 10.24), np.random.uniform(0, 10.24)\n",
    "        radius = np.random.uniform(0.5, 1.5)\n",
    "        color = np.random.rand(3,)\n",
    "        circle_colored = plt.Circle((x, y), radius, fill=True, edgecolor=color, facecolor=color)\n",
    "        circle_bw = plt.Circle((x, y), radius, fill=True, edgecolor='black', facecolor='white', linewidth=1)\n",
    "        ax_colored.add_patch(circle_colored)\n",
    "        ax_bw.add_patch(circle_bw)\n",
    "\n",
    "    # Save both figures\n",
    "    fig_colored.tight_layout(pad=0)\n",
    "    fig_bw.tight_layout(pad=0)\n",
    "    \n",
    "    fig_colored.canvas.draw()\n",
    "    image_colored = np.frombuffer(fig_colored.canvas.tostring_rgb(), dtype='uint8')\n",
    "    image_colored = image_colored.reshape(fig_colored.canvas.get_width_height()[::-1] + (3,))\n",
    "\n",
    "    fig_bw.canvas.draw()\n",
    "    image_bw = np.frombuffer(fig_bw.canvas.tostring_rgb(), dtype='uint8')\n",
    "    image_bw = image_bw.reshape(fig_bw.canvas.get_width_height()[::-1] + (3,))\n",
    "\n",
    "    plt.close(fig_colored)\n",
    "    plt.close(fig_bw)\n",
    "\n",
    "    return image_colored, image_bw"
   ]
  },
  {
   "cell_type": "code",
   "execution_count": 24,
   "metadata": {},
   "outputs": [
    {
     "name": "stderr",
     "output_type": "stream",
     "text": [
      "  0%|          | 0/1000 [00:00<?, ?it/s]/tmp/ipykernel_975/4050594372.py:47: MatplotlibDeprecationWarning: The tostring_rgb function was deprecated in Matplotlib 3.8 and will be removed two minor releases later. Use buffer_rgba instead.\n",
      "  image_colored = np.frombuffer(fig_colored.canvas.tostring_rgb(), dtype='uint8')\n",
      "/tmp/ipykernel_975/4050594372.py:51: MatplotlibDeprecationWarning: The tostring_rgb function was deprecated in Matplotlib 3.8 and will be removed two minor releases later. Use buffer_rgba instead.\n",
      "  image_bw = np.frombuffer(fig_bw.canvas.tostring_rgb(), dtype='uint8')\n",
      "100%|██████████| 1000/1000 [04:03<00:00,  4.11it/s]\n"
     ]
    }
   ],
   "source": [
    "image_files = []\n",
    "for i in tqdm(range(1000)):\n",
    "    image_color, image_line = create_paired_images(i)\n",
    "    plt.imsave(f'../inputs/simple_data/inputs/color_{i+1}.png', image_color)\n",
    "    plt.imsave(f'../inputs/simple_data/targets/line_{i+1}.png', image_line)"
   ]
  },
  {
   "cell_type": "code",
   "execution_count": null,
   "metadata": {},
   "outputs": [],
   "source": []
  }
 ],
 "metadata": {
  "kernelspec": {
   "display_name": "base",
   "language": "python",
   "name": "python3"
  },
  "language_info": {
   "codemirror_mode": {
    "name": "ipython",
    "version": 3
   },
   "file_extension": ".py",
   "mimetype": "text/x-python",
   "name": "python",
   "nbconvert_exporter": "python",
   "pygments_lexer": "ipython3",
   "version": "3.11.7"
  }
 },
 "nbformat": 4,
 "nbformat_minor": 2
}
